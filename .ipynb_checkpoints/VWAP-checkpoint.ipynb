{
 "cells": [
  {
   "cell_type": "markdown",
   "metadata": {},
   "source": [
    "# Volume Weighted Average vs Simple Moving Average\n",
    "\n",
    "We are developing a simple model to test if the volume weighted average price (VWAP) is a better indicator of future stock price than a simple moving average price (SMAP). Our hypothesis is that it is, since the VWAP contains more information (i.e. the volume of stocks traded) than the SMAP. Before developing the model, we first give some definitions.\n",
    "\n",
    "For our purposes, we define the VWAP of stock $A$ as\n",
    "$$\\mathrm{VWAP}_{A}(d) = \\frac{\\sum_{t=-d}^{0} p_{A}(t)\\times V_{A}(t)}{\\sum_{t=-d}^{0} V_{A}(t)}$$\n",
    "Here $p_{A}(d)$ and $V_{A}(d)$ are the closing price of stock $A$ and the volume of stock $A$ (number of shares) , respectively, traded $d$ market days ago. The variable $d$ thus serves as the anchoring point for the volume weighted average.\n",
    "\n",
    "The SMAP of stock $A$ is defined as\n",
    "$$\\mathrm{SMAP}_{A}(d) = \\frac{1}{d+1}\\sum_{t=-d}^{0} p_{A}(t)$$\n",
    "where $d$ is again the lookback period.\n",
    "\n",
    "To test the model, we will analyze the stocks that constitute the MMI. Our data came from [kaggle](https://www.kaggle.com/borismarjanovic/price-volume-data-for-all-us-stocks-etfs).\n",
    "\n",
    "### Reading in historical data\n",
    "We will start by reading in the historical data for stocks in the NYSE ARCA Major Market Index"
   ]
  },
  {
   "cell_type": "code",
   "execution_count": null,
   "metadata": {},
   "outputs": [],
   "source": [
    "# Lets first import some useful libraries for data analysis\n",
    "import numpy as np\n",
    "import pandas as pd\n",
    "import matplotlib.pyplot as plt\n",
    "import matplotlib.dates  as dates\n",
    "\n",
    "# Create a dictionary of stock ticker symbols\n",
    "ARCAMMI_Stocks={'AmericanExpress':'axp',\n",
    "                'Boeing':'ba',\n",
    "                'Chevron':'cvx',\n",
    "                'DowDupont':'dwdp',\n",
    "                'Disney':'dis',\n",
    "                'GeneralElectric':'ge',\n",
    "                'HewlettPackard':'hpq',\n",
    "                'IBM':'ibm',\n",
    "                'JohnsonAndJohnson':'jnj',\n",
    "                'JPMorgan':'jpm',\n",
    "                'CocaCola':'ko',\n",
    "                'McDonalds':'mcd',\n",
    "                '3M':'mmm',\n",
    "                'Merck':'mrk',\n",
    "                'Microsoft':'msft',\n",
    "                'ProcterAndGamble':'pg',\n",
    "                'WellsFargo':'wfc',\n",
    "                'Walmart':'wmt',\n",
    "                'ExxonMobil':'xom'}\n",
    "\n",
    "# Read in the historical data\n",
    "historical_data = {}\n",
    "for key, ticker in ARCAMMI_Stocks.items():\n",
    "    historical_data[key] = pd.read_csv('MMI_DATA/'+ticker+'.us.txt',index_col=0)"
   ]
  },
  {
   "cell_type": "code",
   "execution_count": null,
   "metadata": {},
   "outputs": [],
   "source": [
    "# Lets see what other data we have available to us\n",
    "print('We have access to the following data:')\n",
    "for col in historical_data['Disney'].columns.values:\n",
    "    print('\\t',col)\n",
    "\n",
    "\n",
    "# Lets go ahead and take a look at Disney's historical closing price\n",
    "print('\\n\\nHistorical Closing Price for Disney Stock:')\n",
    "fig, ax = plt.subplots(1,1,figsize=(10,6))\n",
    "ax.plot_date(historical_data['Disney'].index.values, historical_data['Disney']['Close'],\n",
    "             color='blue',linewidth=1,marker='',linestyle='-')\n",
    "\n",
    "#print dates.YearLocator()\n",
    "ax.xaxis.set_major_locator(dates.YearLocator(base=5))\n",
    "ax.set_xlabel('Year')\n",
    "ax.set_ylabel('Price (USD)')\n",
    "plt.show()\n",
    "plt.close()\n"
   ]
  },
  {
   "cell_type": "markdown",
   "metadata": {},
   "source": [
    "## VWAP and SMAP Functions\n",
    "\n",
    "Now that we have got the stock data in, lets write some functions to calculate the VWAP and SMAP"
   ]
  },
  {
   "cell_type": "code",
   "execution_count": null,
   "metadata": {},
   "outputs": [],
   "source": [
    "def get_vwap(price,volume,d):\n",
    "    \"\"\"Return the VWAP anchored d days back\"\"\"\n",
    "    vwap = np.zeros(len(price))\n",
    "    for i in range(d,len(price)):\n",
    "        lb = i - d #lower bound\n",
    "        ub = i + 1 #upper bound\n",
    "        vwap[i] = np.multiply(price[lb:ub],volume[lb:ub]).sum()\n",
    "        vwap[i] /= np.sum(1.*volume[lb:ub])\n",
    "    return vwap\n",
    "\n",
    "def get_smap(price,d):\n",
    "    \"\"\"Return the SMAP anchored d days back\"\"\"\n",
    "    smap = np.zeros(len(price))\n",
    "    for i in range(d,len(price)):\n",
    "        lb = i - d #lower bound\n",
    "        ub = i + 1 #upper bound\n",
    "        smap[i] = np.sum(price[lb:ub])/(d+1.)\n",
    "    return smap"
   ]
  },
  {
   "cell_type": "markdown",
   "metadata": {},
   "source": [
    "## Generate VWAP and SMAP Data\n",
    "Now that we have functions to calculate VWAP and SMAP, lets go ahead and generate the data using an anchor of 15 days and the stock closing price."
   ]
  },
  {
   "cell_type": "code",
   "execution_count": null,
   "metadata": {},
   "outputs": [],
   "source": [
    "lookback = 15\n",
    "for company in historical_data:\n",
    "    historical_data[company]['VWAP'] = get_vwap(historical_data[company]['Close'],historical_data[company]['Volume'],lookback)\n",
    "    historical_data[company]['SMAP'] = get_smap(historical_data[company]['Close'],lookback)"
   ]
  },
  {
   "cell_type": "code",
   "execution_count": null,
   "metadata": {},
   "outputs": [],
   "source": [
    "# Lets go ahead and take a look at the disney data from 2016 on\n",
    "start = '2016-01-01'\n",
    "fig, ax2 = plt.subplots(1,1,figsize=(10,6))\n",
    "\n",
    "ax2.plot_date(historical_data['Disney'][start:].index.values, historical_data['Disney'][start::]['Close'],\n",
    "             color='blue',linewidth=1,marker='',linestyle='-',label='Close')\n",
    "ax2.plot_date(historical_data['Disney'][start:].index.values, historical_data['Disney'][start::]['VWAP'],\n",
    "             color='green',linewidth=1,marker='',linestyle='-',label='VWAP('+str(lookback)+')')\n",
    "ax2.plot_date(historical_data['Disney'][start:].index.values, historical_data['Disney'][start::]['SMAP'],\n",
    "             color='red',linewidth=1,marker='',linestyle='-',label='SMAP('+str(lookback)+')')\n",
    "\n",
    "ax2.xaxis.set_major_locator(dates.MonthLocator(interval=2))\n",
    "ax2.xaxis.set_major_formatter(dates.DateFormatter(\"%b '%y\"))\n",
    "ax2.set_xlabel('Year')\n",
    "ax2.set_ylabel('Price (USD)')\n",
    "ax2.legend()\n",
    "ax2.grid(linestyle='dashed')\n",
    "plt.show()\n",
    "plt.close()"
   ]
  },
  {
   "cell_type": "markdown",
   "metadata": {
    "collapsed": true
   },
   "source": [
    "## A Simple Strategy\n",
    "\n",
    "We are going to implement a strategy based on the following principles:\n",
    "\n",
    "1. When the price is above the SMAP or the VWAP, we are going to be in a long position.\n",
    "2. When the price is below the SMAP or the VWAP, we are going to be in a cash position.\n",
    "\n",
    "We want to run tests for diffent number of lookback days for calculating SMAP and VWAP to see if we can find an optimal value for outperforming the benchmark, which is just a buy and hold strategy, and to see if the number of lookback days affects the performance of VWAP vs SMAP.\n",
    "\n",
    "Some questions we hope to answer:\n",
    "1. What is the optimal number of looback days\n",
    "2. How many signals are different between VWAP and SMAP"
   ]
  },
  {
   "cell_type": "code",
   "execution_count": 6,
   "metadata": {
    "collapsed": true
   },
   "outputs": [],
   "source": [
    "# Here define some functions to calculate our signals and values \n",
    "\n",
    "# if the price is greater than VWAP or SMAP, we want to go long (1), otherwise we want to be in a cash position (0)\n",
    "def set_signal(metric, price, lookback):\n",
    "    signal = np.zeros(len(price))\n",
    "    for i in range(len(price)):\n",
    "        if price[i] > metric[i] and i >= lookback:\n",
    "            signal[i] = 1\n",
    "            \n",
    "    return signal\n",
    "\n",
    "# Now, we want to calculate the value of our portfolio\n",
    "# I think this is working correctly\n",
    "def set_value(signal,openprice):\n",
    "    value = np.zeros(len(signal))\n",
    "    value[0] = 1.\n",
    "    for i in range(1,len(signal)):\n",
    "        delta = (openprice[i] - openprice[i-1])/(openprice[i-1])\n",
    "        value[i] = value[i-1]*(1 + signal[i-1]*delta)\n",
    "        \n",
    "    return value"
   ]
  },
  {
   "cell_type": "markdown",
   "metadata": {},
   "source": [
    "Lets test the strategy using a lookback of 15 days for the returns since 2010 for all stocks in the MMI. I don't want to go back as far as possible because then the returns seem unrealistic. There is something I don't quite understand that is contributing to these excetional returns.\n",
    "\n",
    "The signal is calculated based on the closing price for a given day, and action is taken the next day at the market opening."
   ]
  },
  {
   "cell_type": "code",
   "execution_count": 9,
   "metadata": {},
   "outputs": [
    {
     "data": {
      "text/html": [
       "<div>\n",
       "<style>\n",
       "    .dataframe thead tr:only-child th {\n",
       "        text-align: right;\n",
       "    }\n",
       "\n",
       "    .dataframe thead th {\n",
       "        text-align: left;\n",
       "    }\n",
       "\n",
       "    .dataframe tbody tr th {\n",
       "        vertical-align: top;\n",
       "    }\n",
       "</style>\n",
       "<table border=\"1\" class=\"dataframe\">\n",
       "  <thead>\n",
       "    <tr style=\"text-align: right;\">\n",
       "      <th></th>\n",
       "      <th>Open</th>\n",
       "      <th>High</th>\n",
       "      <th>Low</th>\n",
       "      <th>Close</th>\n",
       "      <th>Volume</th>\n",
       "      <th>OpenInt</th>\n",
       "      <th>VWAP</th>\n",
       "      <th>SMAP</th>\n",
       "      <th>SMAP_Signal</th>\n",
       "      <th>VWAP_Signal</th>\n",
       "      <th>SMAP_Value</th>\n",
       "      <th>VWAP_Value</th>\n",
       "      <th>BM_Signal</th>\n",
       "      <th>BM_Value</th>\n",
       "    </tr>\n",
       "    <tr>\n",
       "      <th>Date</th>\n",
       "      <th></th>\n",
       "      <th></th>\n",
       "      <th></th>\n",
       "      <th></th>\n",
       "      <th></th>\n",
       "      <th></th>\n",
       "      <th></th>\n",
       "      <th></th>\n",
       "      <th></th>\n",
       "      <th></th>\n",
       "      <th></th>\n",
       "      <th></th>\n",
       "      <th></th>\n",
       "      <th></th>\n",
       "    </tr>\n",
       "  </thead>\n",
       "  <tbody>\n",
       "    <tr>\n",
       "      <th>2017-11-10</th>\n",
       "      <td>104.99</td>\n",
       "      <td>106.24</td>\n",
       "      <td>104.08</td>\n",
       "      <td>104.78</td>\n",
       "      <td>16698113</td>\n",
       "      <td>0</td>\n",
       "      <td>100.365933</td>\n",
       "      <td>99.61375</td>\n",
       "      <td>1.0</td>\n",
       "      <td>1.0</td>\n",
       "      <td>24.500277</td>\n",
       "      <td>26.173498</td>\n",
       "      <td>1.0</td>\n",
       "      <td>3.860068</td>\n",
       "    </tr>\n",
       "  </tbody>\n",
       "</table>\n",
       "</div>"
      ],
      "text/plain": [
       "              Open    High     Low   Close    Volume  OpenInt        VWAP  \\\n",
       "Date                                                                        \n",
       "2017-11-10  104.99  106.24  104.08  104.78  16698113        0  100.365933   \n",
       "\n",
       "                SMAP  SMAP_Signal  VWAP_Signal  SMAP_Value  VWAP_Value  \\\n",
       "Date                                                                     \n",
       "2017-11-10  99.61375          1.0          1.0   24.500277   26.173498   \n",
       "\n",
       "            BM_Signal  BM_Value  \n",
       "Date                             \n",
       "2017-11-10        1.0  3.860068  "
      ]
     },
     "execution_count": 9,
     "metadata": {},
     "output_type": "execute_result"
    }
   ],
   "source": [
    "# first get data in a new data frame for all stocks since 2010\n",
    "start = '2010-01-01'\n",
    "modern_data = {}\n",
    "for company in historical_data:\n",
    "    modern_data[company] = historical_data[company].copy().loc[start::]\n",
    "    # note that the lookback time should be the same as the lookback used to calulate the SMAP and VWAP\n",
    "    modern_data[company]['SMAP_Signal'] = set_signal(modern_data[company]['SMAP'], modern_data[company]['Close'], lookback)\n",
    "    modern_data[company]['VWAP_Signal'] = set_signal(modern_data[company]['VWAP'], modern_data[company]['Close'], lookback)\n",
    "    modern_data[company]['SMAP_Value']  = set_value (modern_data[company]['SMAP_Signal'], modern_data[company]['Open'])\n",
    "    modern_data[company]['VWAP_Value']  = set_value (modern_data[company]['VWAP_Signal'], modern_data[company]['Open'])\n",
    "    \n",
    "    # also calculate the benchmark signal and value\n",
    "    bm_signal = np.ones(len(modern_data[company]['Open']))\n",
    "    bm_signal[0:15] = 0 # we don't want a headstart on the benchmark...\n",
    "    modern_data[company]['BM_Signal'] = bm_signal\n",
    "    modern_data[company]['BM_Value']  = set_value (modern_data[company]['BM_Signal'], modern_data[company]['Open'])\n",
    "    \n",
    "# and lets go ahead and take a look at Disney\n",
    "modern_data['Disney'].tail(1)"
   ]
  },
  {
   "cell_type": "markdown",
   "metadata": {},
   "source": [
    "## Initial visualization\n",
    "\n",
    "Here, we plot the VWAP vs SMAP. We also plot the diagonal. Points above the diagonal mean that the VWAP outperformed the SMAP and points below the diagonal mean that the VWAP underperformed the SMAP. For the most part, we see that the points lie close to the diagonal, indicating that the strategies perform similarly. However, this strategy performs much better than a simple buy and hold strategy. We will need to do more in depth analysis to test our strategy further."
   ]
  },
  {
   "cell_type": "code",
   "execution_count": 26,
   "metadata": {},
   "outputs": [
    {
     "data": {
      "image/png": "[encoded data removed]",
      "text/plain": [
       "<matplotlib.figure.Figure at 0x7fc04c33a290>"
      ]
     },
     "metadata": {},
     "output_type": "display_data"
    }
   ],
   "source": [
    "# First, lets get the relevant data\n",
    "smaps = []\n",
    "vwaps = []\n",
    "bms   = []\n",
    "for company in modern_data:\n",
    "    smaps.append(modern_data[company].iloc[-1]['SMAP_Value'])\n",
    "    vwaps.append(modern_data[company].iloc[-1]['VWAP_Value'])\n",
    "    bms.append(modern_data[company].iloc[-1]['BM_Value'])\n",
    "\n",
    "smaps = np.array(smaps)\n",
    "vwaps = np.array(vwaps)\n",
    "bms   = np.array(bms)\n",
    "    \n",
    "# Make the plot of SMAP vs VWAP\n",
    "fig, ax = plt.subplots(1,2,figsize=(20,6))\n",
    "ax[0].plot(smaps,vwaps,marker='o',linestyle='', color = 'black')\n",
    "ax[0].plot([0,100],[0,100],linestyle='--',linewidth=1, color = 'black')\n",
    "ax[0].set_xlabel('SMAP_Value')\n",
    "ax[0].set_ylabel('VWAP_Value')\n",
    "ax[0].set_xlim([0,90])\n",
    "ax[0].set_ylim([0,90])\n",
    "\n",
    "\n",
    "ax[1].plot(bms,vwaps,marker='o',linestyle='', color = 'red',label='VWAP')\n",
    "ax[1].plot(bms,smaps,marker='o',linestyle='', color = 'blue',label='SMAP')\n",
    "ax[1].plot([0,100],[0,100],linestyle='--',linewidth=1, color = 'black')\n",
    "ax[1].set_xlabel('Benchmark Value')\n",
    "ax[1].set_ylabel('Strategy Value')\n",
    "ax[1].legend()\n",
    "ax[1].set_xlim([0,10])\n",
    "ax[1].set_ylim([0,90])\n",
    "\n",
    "# Also plot SMAP and VWAP versus the benchmark\n",
    "plt.show()"
   ]
  },
  {
   "cell_type": "markdown",
   "metadata": {
    "collapsed": true
   },
   "source": [
    "Lets take a look at the average relative return and the standard deviation of VWAP to SMAP and lets plot the distribution to see if it looks normal.\n",
    "\n",
    "Notably, the standard deviation is on the order of the mean. The distribution also doesn't look normal. Analyzing a larger set of stocks would help give a better idea of the shape of the distribution."
   ]
  },
  {
   "cell_type": "code",
   "execution_count": 47,
   "metadata": {},
   "outputs": [
    {
     "name": "stdout",
     "output_type": "stream",
     "text": [
      "The average return of the vwap strategy relative to the smap strategy is 0.04777 with standard deviation 0.0996\n"
     ]
    },
    {
     "data": {
      "image/png": "[encoded data removed]",
      "text/plain": [
       "<matplotlib.figure.Figure at 0x7fc0015fa510>"
      ]
     },
     "metadata": {},
     "output_type": "display_data"
    }
   ],
   "source": [
    "delta          = (vwaps - smaps) / smaps\n",
    "vwap_smap_mean = delta.mean()\n",
    "vwap_smap_std  = delta.std()\n",
    "\n",
    "print(\"The average return of the vwap strategy relative to the smap strategy is {:.4} \\\n",
    "with standard deviation {:.4}\".format(vwap_smap_mean, vwap_smap_std))\n",
    "\n",
    "fig, ax = plt.subplots(1,1,figsize=(10,6))\n",
    "ax.hist(delta, 10, facecolor = 'green', alpha=0.75,edgecolor='black')\n",
    "ax.set_xlabel('Relative vwap return to smap')\n",
    "ax.set_ylabel('Count')\n",
    "plt.show()"
   ]
  },
  {
   "cell_type": "code",
   "execution_count": null,
   "metadata": {
    "collapsed": true
   },
   "outputs": [],
   "source": []
  }
 ],
 "metadata": {
  "kernelspec": {
   "display_name": "Python 3",
   "language": "python",
   "name": "python3"
  },
  "language_info": {
   "codemirror_mode": {
    "name": "ipython",
    "version": 3
   },
   "file_extension": ".py",
   "mimetype": "text/x-python",
   "name": "python",
   "nbconvert_exporter": "python",
   "pygments_lexer": "ipython3",
   "version": "3.7.2"
  }
 },
 "nbformat": 4,
 "nbformat_minor": 2
}
